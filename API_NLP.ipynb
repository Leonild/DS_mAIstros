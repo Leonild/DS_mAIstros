{
  "cells": [
    {
      "cell_type": "markdown",
      "metadata": {
        "id": "view-in-github",
        "colab_type": "text"
      },
      "source": [
        "<a href=\"https://colab.research.google.com/github/Leonild/DS_mAIstros/blob/main/API_NLP.ipynb\" target=\"_parent\"><img src=\"https://colab.research.google.com/assets/colab-badge.svg\" alt=\"Open In Colab\"/></a>"
      ]
    },
    {
      "cell_type": "markdown",
      "metadata": {
        "id": "TEW8YGs-yoTv"
      },
      "source": [
        "# API\n",
        "\n",
        "GIT: https://github.com/Leonild/DS_mAIstros/blob/main/API_NLP.ipynb"
      ]
    },
    {
      "cell_type": "code",
      "execution_count": null,
      "metadata": {
        "colab": {
          "base_uri": "https://localhost:8080/"
        },
        "id": "prOgrhJ-wHKT",
        "outputId": "2c82e53f-4fd0-48cf-ab25-0141551e2b86"
      },
      "outputs": [
        {
          "name": "stdout",
          "output_type": "stream",
          "text": [
            "Requirement already satisfied: Flask-Waitress in c:\\users\\consultant\\anaconda3\\lib\\site-packages (0.0.1)\n",
            "Requirement already satisfied: paste>=1.7 in c:\\users\\consultant\\anaconda3\\lib\\site-packages (from Flask-Waitress) (3.5.2)\n",
            "Requirement already satisfied: waitress in c:\\users\\consultant\\anaconda3\\lib\\site-packages (from Flask-Waitress) (2.1.2)\n",
            "Requirement already satisfied: flask>=0.9 in c:\\users\\consultant\\anaconda3\\lib\\site-packages (from Flask-Waitress) (1.1.2)\n",
            "Requirement already satisfied: click>=5.1 in c:\\users\\consultant\\anaconda3\\lib\\site-packages (from flask>=0.9->Flask-Waitress) (8.0.4)\n",
            "Requirement already satisfied: Jinja2>=2.10.1 in c:\\users\\consultant\\anaconda3\\lib\\site-packages (from flask>=0.9->Flask-Waitress) (2.11.3)\n",
            "Requirement already satisfied: Werkzeug>=0.15 in c:\\users\\consultant\\anaconda3\\lib\\site-packages (from flask>=0.9->Flask-Waitress) (2.0.3)\n",
            "Requirement already satisfied: itsdangerous>=0.24 in c:\\users\\consultant\\anaconda3\\lib\\site-packages (from flask>=0.9->Flask-Waitress) (2.0.1)\n",
            "Requirement already satisfied: six>=1.4.0 in c:\\users\\consultant\\anaconda3\\lib\\site-packages (from paste>=1.7->Flask-Waitress) (1.16.0)\n",
            "Requirement already satisfied: setuptools in c:\\users\\consultant\\anaconda3\\lib\\site-packages (from paste>=1.7->Flask-Waitress) (63.4.1)\n",
            "Requirement already satisfied: colorama in c:\\users\\consultant\\anaconda3\\lib\\site-packages (from click>=5.1->flask>=0.9->Flask-Waitress) (0.4.5)\n",
            "Requirement already satisfied: MarkupSafe>=0.23 in c:\\users\\consultant\\anaconda3\\lib\\site-packages (from Jinja2>=2.10.1->flask>=0.9->Flask-Waitress) (2.0.1)\n",
            "Requirement already satisfied: flask-restful in c:\\users\\consultant\\anaconda3\\lib\\site-packages (0.3.9)\n",
            "Requirement already satisfied: aniso8601>=0.82 in c:\\users\\consultant\\anaconda3\\lib\\site-packages (from flask-restful) (9.0.1)\n",
            "Requirement already satisfied: pytz in c:\\users\\consultant\\anaconda3\\lib\\site-packages (from flask-restful) (2022.1)\n",
            "Requirement already satisfied: Flask>=0.8 in c:\\users\\consultant\\anaconda3\\lib\\site-packages (from flask-restful) (1.1.2)\n",
            "Requirement already satisfied: six>=1.3.0 in c:\\users\\consultant\\anaconda3\\lib\\site-packages (from flask-restful) (1.16.0)\n",
            "Requirement already satisfied: Jinja2>=2.10.1 in c:\\users\\consultant\\anaconda3\\lib\\site-packages (from Flask>=0.8->flask-restful) (2.11.3)\n",
            "Requirement already satisfied: Werkzeug>=0.15 in c:\\users\\consultant\\anaconda3\\lib\\site-packages (from Flask>=0.8->flask-restful) (2.0.3)\n",
            "Requirement already satisfied: itsdangerous>=0.24 in c:\\users\\consultant\\anaconda3\\lib\\site-packages (from Flask>=0.8->flask-restful) (2.0.1)\n",
            "Requirement already satisfied: click>=5.1 in c:\\users\\consultant\\anaconda3\\lib\\site-packages (from Flask>=0.8->flask-restful) (8.0.4)\n",
            "Requirement already satisfied: colorama in c:\\users\\consultant\\anaconda3\\lib\\site-packages (from click>=5.1->Flask>=0.8->flask-restful) (0.4.5)\n",
            "Requirement already satisfied: MarkupSafe>=0.23 in c:\\users\\consultant\\anaconda3\\lib\\site-packages (from Jinja2>=2.10.1->Flask>=0.8->flask-restful) (2.0.1)\n",
            "Requirement already satisfied: tensorflow in c:\\users\\consultant\\anaconda3\\lib\\site-packages (2.12.0)\n",
            "Requirement already satisfied: tensorflow-intel==2.12.0 in c:\\users\\consultant\\anaconda3\\lib\\site-packages (from tensorflow) (2.12.0)\n",
            "Requirement already satisfied: keras<2.13,>=2.12.0 in c:\\users\\consultant\\anaconda3\\lib\\site-packages (from tensorflow-intel==2.12.0->tensorflow) (2.12.0)\n",
            "Requirement already satisfied: tensorflow-estimator<2.13,>=2.12.0 in c:\\users\\consultant\\anaconda3\\lib\\site-packages (from tensorflow-intel==2.12.0->tensorflow) (2.12.0)\n",
            "Requirement already satisfied: gast<=0.4.0,>=0.2.1 in c:\\users\\consultant\\anaconda3\\lib\\site-packages (from tensorflow-intel==2.12.0->tensorflow) (0.4.0)\n",
            "Requirement already satisfied: wrapt<1.15,>=1.11.0 in c:\\users\\consultant\\anaconda3\\lib\\site-packages (from tensorflow-intel==2.12.0->tensorflow) (1.14.1)\n",
            "Requirement already satisfied: astunparse>=1.6.0 in c:\\users\\consultant\\anaconda3\\lib\\site-packages (from tensorflow-intel==2.12.0->tensorflow) (1.6.3)\n",
            "Requirement already satisfied: protobuf!=4.21.0,!=4.21.1,!=4.21.2,!=4.21.3,!=4.21.4,!=4.21.5,<5.0.0dev,>=3.20.3 in c:\\users\\consultant\\anaconda3\\lib\\site-packages (from tensorflow-intel==2.12.0->tensorflow) (4.22.1)\n",
            "Requirement already satisfied: jax>=0.3.15 in c:\\users\\consultant\\anaconda3\\lib\\site-packages (from tensorflow-intel==2.12.0->tensorflow) (0.4.8)\n",
            "Requirement already satisfied: flatbuffers>=2.0 in c:\\users\\consultant\\anaconda3\\lib\\site-packages (from tensorflow-intel==2.12.0->tensorflow) (23.3.3)\n",
            "Requirement already satisfied: libclang>=13.0.0 in c:\\users\\consultant\\anaconda3\\lib\\site-packages (from tensorflow-intel==2.12.0->tensorflow) (16.0.0)\n",
            "Requirement already satisfied: grpcio<2.0,>=1.24.3 in c:\\users\\consultant\\anaconda3\\lib\\site-packages (from tensorflow-intel==2.12.0->tensorflow) (1.53.0)\n",
            "Requirement already satisfied: tensorboard<2.13,>=2.12 in c:\\users\\consultant\\anaconda3\\lib\\site-packages (from tensorflow-intel==2.12.0->tensorflow) (2.12.1)\n",
            "Requirement already satisfied: h5py>=2.9.0 in c:\\users\\consultant\\anaconda3\\lib\\site-packages (from tensorflow-intel==2.12.0->tensorflow) (3.7.0)\n",
            "Requirement already satisfied: typing-extensions>=3.6.6 in c:\\users\\consultant\\anaconda3\\lib\\site-packages (from tensorflow-intel==2.12.0->tensorflow) (4.3.0)\n",
            "Requirement already satisfied: six>=1.12.0 in c:\\users\\consultant\\anaconda3\\lib\\site-packages (from tensorflow-intel==2.12.0->tensorflow) (1.16.0)\n",
            "Requirement already satisfied: google-pasta>=0.1.1 in c:\\users\\consultant\\anaconda3\\lib\\site-packages (from tensorflow-intel==2.12.0->tensorflow) (0.2.0)\n",
            "Requirement already satisfied: termcolor>=1.1.0 in c:\\users\\consultant\\anaconda3\\lib\\site-packages (from tensorflow-intel==2.12.0->tensorflow) (2.2.0)\n",
            "Requirement already satisfied: tensorflow-io-gcs-filesystem>=0.23.1 in c:\\users\\consultant\\anaconda3\\lib\\site-packages (from tensorflow-intel==2.12.0->tensorflow) (0.31.0)\n",
            "Requirement already satisfied: setuptools in c:\\users\\consultant\\anaconda3\\lib\\site-packages (from tensorflow-intel==2.12.0->tensorflow) (63.4.1)\n",
            "Requirement already satisfied: numpy<1.24,>=1.22 in c:\\users\\consultant\\anaconda3\\lib\\site-packages (from tensorflow-intel==2.12.0->tensorflow) (1.23.5)\n",
            "Requirement already satisfied: absl-py>=1.0.0 in c:\\users\\consultant\\anaconda3\\lib\\site-packages (from tensorflow-intel==2.12.0->tensorflow) (1.4.0)\n",
            "Requirement already satisfied: packaging in c:\\users\\consultant\\anaconda3\\lib\\site-packages (from tensorflow-intel==2.12.0->tensorflow) (21.3)\n",
            "Requirement already satisfied: opt-einsum>=2.3.2 in c:\\users\\consultant\\anaconda3\\lib\\site-packages (from tensorflow-intel==2.12.0->tensorflow) (3.3.0)\n",
            "Requirement already satisfied: wheel<1.0,>=0.23.0 in c:\\users\\consultant\\anaconda3\\lib\\site-packages (from astunparse>=1.6.0->tensorflow-intel==2.12.0->tensorflow) (0.37.1)\n",
            "Requirement already satisfied: scipy>=1.7 in c:\\users\\consultant\\anaconda3\\lib\\site-packages (from jax>=0.3.15->tensorflow-intel==2.12.0->tensorflow) (1.9.1)\n",
            "Requirement already satisfied: ml-dtypes>=0.0.3 in c:\\users\\consultant\\anaconda3\\lib\\site-packages (from jax>=0.3.15->tensorflow-intel==2.12.0->tensorflow) (0.0.4)\n",
            "Requirement already satisfied: tensorboard-plugin-wit>=1.6.0 in c:\\users\\consultant\\anaconda3\\lib\\site-packages (from tensorboard<2.13,>=2.12->tensorflow-intel==2.12.0->tensorflow) (1.8.1)\n",
            "Requirement already satisfied: google-auth-oauthlib<1.1,>=0.5 in c:\\users\\consultant\\anaconda3\\lib\\site-packages (from tensorboard<2.13,>=2.12->tensorflow-intel==2.12.0->tensorflow) (1.0.0)\n",
            "Requirement already satisfied: werkzeug>=1.0.1 in c:\\users\\consultant\\anaconda3\\lib\\site-packages (from tensorboard<2.13,>=2.12->tensorflow-intel==2.12.0->tensorflow) (2.0.3)\n",
            "Requirement already satisfied: tensorboard-data-server<0.8.0,>=0.7.0 in c:\\users\\consultant\\anaconda3\\lib\\site-packages (from tensorboard<2.13,>=2.12->tensorflow-intel==2.12.0->tensorflow) (0.7.0)\n",
            "Requirement already satisfied: requests<3,>=2.21.0 in c:\\users\\consultant\\anaconda3\\lib\\site-packages (from tensorboard<2.13,>=2.12->tensorflow-intel==2.12.0->tensorflow) (2.28.1)\n",
            "Requirement already satisfied: google-auth<3,>=1.6.3 in c:\\users\\consultant\\anaconda3\\lib\\site-packages (from tensorboard<2.13,>=2.12->tensorflow-intel==2.12.0->tensorflow) (2.17.1)\n",
            "Requirement already satisfied: markdown>=2.6.8 in c:\\users\\consultant\\anaconda3\\lib\\site-packages (from tensorboard<2.13,>=2.12->tensorflow-intel==2.12.0->tensorflow) (3.3.4)\n",
            "Requirement already satisfied: pyparsing!=3.0.5,>=2.0.2 in c:\\users\\consultant\\anaconda3\\lib\\site-packages (from packaging->tensorflow-intel==2.12.0->tensorflow) (3.0.9)\n",
            "Requirement already satisfied: rsa<5,>=3.1.4 in c:\\users\\consultant\\anaconda3\\lib\\site-packages (from google-auth<3,>=1.6.3->tensorboard<2.13,>=2.12->tensorflow-intel==2.12.0->tensorflow) (4.9)\n",
            "Requirement already satisfied: cachetools<6.0,>=2.0.0 in c:\\users\\consultant\\anaconda3\\lib\\site-packages (from google-auth<3,>=1.6.3->tensorboard<2.13,>=2.12->tensorflow-intel==2.12.0->tensorflow) (5.3.0)\n",
            "Requirement already satisfied: pyasn1-modules>=0.2.1 in c:\\users\\consultant\\anaconda3\\lib\\site-packages (from google-auth<3,>=1.6.3->tensorboard<2.13,>=2.12->tensorflow-intel==2.12.0->tensorflow) (0.2.8)\n",
            "Requirement already satisfied: requests-oauthlib>=0.7.0 in c:\\users\\consultant\\anaconda3\\lib\\site-packages (from google-auth-oauthlib<1.1,>=0.5->tensorboard<2.13,>=2.12->tensorflow-intel==2.12.0->tensorflow) (1.3.1)\n",
            "Requirement already satisfied: urllib3<1.27,>=1.21.1 in c:\\users\\consultant\\anaconda3\\lib\\site-packages (from requests<3,>=2.21.0->tensorboard<2.13,>=2.12->tensorflow-intel==2.12.0->tensorflow) (1.26.11)\n",
            "Requirement already satisfied: charset-normalizer<3,>=2 in c:\\users\\consultant\\anaconda3\\lib\\site-packages (from requests<3,>=2.21.0->tensorboard<2.13,>=2.12->tensorflow-intel==2.12.0->tensorflow) (2.0.4)\n",
            "Requirement already satisfied: idna<4,>=2.5 in c:\\users\\consultant\\anaconda3\\lib\\site-packages (from requests<3,>=2.21.0->tensorboard<2.13,>=2.12->tensorflow-intel==2.12.0->tensorflow) (3.3)\n",
            "Requirement already satisfied: certifi>=2017.4.17 in c:\\users\\consultant\\anaconda3\\lib\\site-packages (from requests<3,>=2.21.0->tensorboard<2.13,>=2.12->tensorflow-intel==2.12.0->tensorflow) (2022.9.14)\n",
            "Requirement already satisfied: pyasn1<0.5.0,>=0.4.6 in c:\\users\\consultant\\anaconda3\\lib\\site-packages (from pyasn1-modules>=0.2.1->google-auth<3,>=1.6.3->tensorboard<2.13,>=2.12->tensorflow-intel==2.12.0->tensorflow) (0.4.8)\n",
            "Requirement already satisfied: oauthlib>=3.0.0 in c:\\users\\consultant\\anaconda3\\lib\\site-packages (from requests-oauthlib>=0.7.0->google-auth-oauthlib<1.1,>=0.5->tensorboard<2.13,>=2.12->tensorflow-intel==2.12.0->tensorflow) (3.2.2)\n"
          ]
        },
        {
          "name": "stdout",
          "output_type": "stream",
          "text": [
            "Requirement already satisfied: tensorflow_hub in c:\\users\\consultant\\anaconda3\\lib\\site-packages (0.13.0)\n",
            "Requirement already satisfied: protobuf>=3.19.6 in c:\\users\\consultant\\anaconda3\\lib\\site-packages (from tensorflow_hub) (4.22.1)\n",
            "Requirement already satisfied: numpy>=1.12.0 in c:\\users\\consultant\\anaconda3\\lib\\site-packages (from tensorflow_hub) (1.23.5)\n"
          ]
        }
      ],
      "source": [
        "!pip install Flask-Waitress\n",
        "!pip install flask-restful\n",
        "!pip install tensorflow\n",
        "!pip install tensorflow_hub"
      ]
    },
    {
      "cell_type": "code",
      "execution_count": null,
      "metadata": {
        "id": "iYXoka2Hnnq_"
      },
      "outputs": [],
      "source": [
        "import tensorflow as tf\n",
        "import tensorflow_hub as hub\n",
        "import numpy as np\n",
        "import os\n",
        "from tensorflow.keras.models import load_model"
      ]
    },
    {
      "cell_type": "code",
      "execution_count": null,
      "metadata": {
        "id": "Z9b20qlxnnrH"
      },
      "outputs": [],
      "source": [
        "# API\n",
        "# Import necessary libraries\n",
        "import flask\n",
        "#from waitress import serve\n",
        "from flask import Flask, request, redirect, url_for, jsonify, render_template\n",
        "from flask_restful import reqparse, abort, Api, Resource\n",
        "import json"
      ]
    },
    {
      "cell_type": "code",
      "execution_count": null,
      "metadata": {
        "id": "76HWPyprnnrJ"
      },
      "outputs": [],
      "source": [
        "# Set the URL for the module to load\n",
        "module_url = 'https://tfhub.dev/google/universal-sentence-encoder-large/5'\n",
        "# Load the embedder module from the specified URL using Tensorflow Hub\n",
        "embedder = hub.load(module_url)\n",
        "# Load the model named 'NLP-project-GOUSE-2-1' without compiling it\n",
        "#model = load_model('/content/NLP-project-GOUSE-2-1',compile=False)\n",
        "model_text = tf.saved_model.load(\"./NLP-project-GOUSE-2-1\")\n",
        "model_sentiments = tf.saved_model.load(\"./NLP-project-GOUSE-1-1\")"
      ]
    },
    {
      "cell_type": "markdown",
      "metadata": {
        "id": "b-hdpJtwpH70"
      },
      "source": [
        "## This function takes a sentence and returns its embedding"
      ]
    },
    {
      "cell_type": "code",
      "execution_count": null,
      "metadata": {
        "id": "LSDsy9qApVA7"
      },
      "outputs": [],
      "source": [
        "def embed(sentence):\n",
        "    # Wrap the sentence in a list\n",
        "    sentence_in =[sentence]\n",
        "    # Return the embedding of the sentence\n",
        "    return embedder(sentence_in)"
      ]
    },
    {
      "cell_type": "markdown",
      "metadata": {
        "id": "I9qXsy9vpMKO"
      },
      "source": [
        "## This function takes a job description and predicts the most relevant technology based on its embedding"
      ]
    },
    {
      "cell_type": "code",
      "execution_count": null,
      "metadata": {
        "id": "S6x9MGo9nnrK"
      },
      "outputs": [],
      "source": [
        "def predict_label_text(JD):\n",
        "    probs=model_text([JD])\n",
        "    # List of technologies to predict\n",
        "    techs=['News','Opinion','Trash']\n",
        "    # Combine the technology names and their corresponding probabilities into a list and sort it in descending order of probability\n",
        "    results=sorted(list(zip(techs,probs[0])), key=lambda x: x[1], reverse=True)\n",
        "    # Return the sorted list\n",
        "    return results\n",
        "\n",
        "def predict_label_sentiments(JD):\n",
        "    probs=model_sentiments([JD])\n",
        "    # List of technologies to predict\n",
        "    techs=['Happy','Sad','Ambiguous','Neutral']\n",
        "    # Combine the technology names and their corresponding probabilities into a list and sort it in descending order of probability\n",
        "    results=sorted(list(zip(techs,probs[0])), key=lambda x: x[1], reverse=True)\n",
        "    # Return the sorted list\n",
        "    return results"
      ]
    },
    {
      "cell_type": "code",
      "execution_count": null,
      "metadata": {
        "colab": {
          "base_uri": "https://localhost:8080/"
        },
        "id": "oB41aI2V_p4P",
        "outputId": "f3a1ae58-7cb2-46c2-b594-0e2657362916"
      },
      "outputs": [
        {
          "name": "stdout",
          "output_type": "stream",
          "text": [
            "Text type is [News] and the sentiment is [Happy]\n"
          ]
        }
      ],
      "source": [
        "def classification_text(text):\n",
        "  result_text = predict_label_text(text)\n",
        "  response_text = \"\"\n",
        "  biggest = 0.0\n",
        "  for i in range(len(result_text)):\n",
        "    #print(\"Class:\", result[i][0], \" Probability: \", f'{result[i][1].numpy():.5f}')\n",
        "    value = f'{result_text[i][1].numpy():.5f}'\n",
        "    if np.float16(value) > biggest:\n",
        "      response_text = result_text[i][0]\n",
        "      biggest = np.float16(value)\n",
        "        \n",
        "  result_sentiments = predict_label_sentiments(text)\n",
        "  response_sentiments = \"\"\n",
        "  biggest = 0.0\n",
        "  for i in range(len(result_sentiments)):\n",
        "    #print(\"Class:\", result[i][0], \" Probability: \", f'{result[i][1].numpy():.5f}')\n",
        "    value = f'{result_sentiments[i][1].numpy():.5f}'\n",
        "    if np.float16(value) > biggest:\n",
        "      response_sentiments = result_sentiments[i][0]\n",
        "      biggest = np.float16(value)\n",
        "\n",
        "  response = \"Text type is [\" + response_text + \"] and the sentiment is [\" + response_sentiments + \"]\"\n",
        "  return response\n",
        "\n",
        "print(classification_text(\"This is a lovely day\"))"
      ]
    },
    {
      "cell_type": "code",
      "execution_count": null,
      "metadata": {
        "colab": {
          "base_uri": "https://localhost:8080/"
        },
        "id": "QPNW6K38nnrP",
        "outputId": "968fc2ce-0eec-4786-c957-e5d4425bcbea"
      },
      "outputs": [
        {
          "name": "stdout",
          "output_type": "stream",
          "text": [
            " * Serving Flask app \"__main__\" (lazy loading)\n",
            " * Environment: production\n",
            "\u001b[31m   WARNING: This is a development server. Do not use it in a production deployment.\u001b[0m\n",
            "\u001b[2m   Use a production WSGI server instead.\u001b[0m\n",
            " * Debug mode: on\n"
          ]
        },
        {
          "name": "stderr",
          "output_type": "stream",
          "text": [
            "INFO:werkzeug: * Running on http://127.0.0.1:5000/ (Press CTRL+C to quit)\n"
          ]
        }
      ],
      "source": [
        "from flask import Flask, request, render_template,jsonify\n",
        "app = Flask(__name__)\n",
        "\n",
        "#loading interface\n",
        "@app.route('/')\n",
        "def home():\n",
        "    return render_template('interface.html')\n",
        "\n",
        "# dealing with get and post\n",
        "@app.route('/classify', methods=['GET','POST'])\n",
        "def answerQuestion():\n",
        "    question = request.form['text_input']\n",
        "    classification = classification_text(question)\n",
        "    return render_template('interface.html', result = classification)\n",
        "    #return redirect(url_for(\"result\", result=classification))\n",
        "\n",
        "\n",
        "\n",
        "# Check if this file is being executed as the main program\n",
        "if __name__ == '__main__':\n",
        "  \n",
        "    # Start the API and listen for incoming requests on all network interfaces\n",
        "    app.run(debug=True, use_reloader=False)"
      ]
    },
    {
      "cell_type": "code",
      "execution_count": null,
      "metadata": {
        "id": "gsX2uKlnn0g8"
      },
      "outputs": [],
      "source": []
    }
  ],
  "metadata": {
    "colab": {
      "provenance": [],
      "include_colab_link": true
    },
    "kernelspec": {
      "display_name": "Python 3 (ipykernel)",
      "language": "python",
      "name": "python3"
    },
    "language_info": {
      "codemirror_mode": {
        "name": "ipython",
        "version": 3
      },
      "file_extension": ".py",
      "mimetype": "text/x-python",
      "name": "python",
      "nbconvert_exporter": "python",
      "pygments_lexer": "ipython3",
      "version": "3.9.13"
    }
  },
  "nbformat": 4,
  "nbformat_minor": 0
}