{
  "nbformat": 4,
  "nbformat_minor": 0,
  "metadata": {
    "colab": {
      "provenance": [],
      "authorship_tag": "ABX9TyOmqHmUGV9HSysuVWv+6SXF",
      "include_colab_link": true
    },
    "kernelspec": {
      "name": "python3",
      "display_name": "Python 3"
    },
    "language_info": {
      "name": "python"
    }
  },
  "cells": [
    {
      "cell_type": "markdown",
      "metadata": {
        "id": "view-in-github",
        "colab_type": "text"
      },
      "source": [
        "<a href=\"https://colab.research.google.com/github/Leonild/DS_mAIstros/blob/main/ShaloonAnn_LogisticRegression.ipynb\" target=\"_parent\"><img src=\"https://colab.research.google.com/assets/colab-badge.svg\" alt=\"Open In Colab\"/></a>"
      ]
    },
    {
      "cell_type": "markdown",
      "source": [
        "# Shallon ANN (Logistic Regression) for Churn predict\n",
        "\n",
        "The code is available on: https://github.com/Leonild/DS_mAIstros/blob/main/KNN_Linear_regression.ipynb"
      ],
      "metadata": {
        "id": "3S-fBiOep9oK"
      }
    },
    {
      "cell_type": "code",
      "execution_count": null,
      "metadata": {
        "colab": {
          "base_uri": "https://localhost:8080/"
        },
        "id": "PQWJc90vcUWe",
        "outputId": "81977e9c-db14-4db2-82a1-ea38874241b7"
      },
      "outputs": [
        {
          "output_type": "stream",
          "name": "stdout",
          "text": [
            "   RowNumber  CustomerId   Surname  CreditScore Geography  Gender  Age  \\\n",
            "0          1    15634602  Hargrave          619    France  Female   42   \n",
            "1          2    15647311      Hill          608     Spain  Female   41   \n",
            "2          3    15619304      Onio          502    France  Female   42   \n",
            "3          4    15701354      Boni          699    France  Female   39   \n",
            "4          5    15737888  Mitchell          850     Spain  Female   43   \n",
            "\n",
            "   Tenure    Balance  NumOfProducts  HasCrCard  IsActiveMember  \\\n",
            "0       2       0.00              1          1               1   \n",
            "1       1   83807.86              1          0               1   \n",
            "2       8  159660.80              3          1               0   \n",
            "3       1       0.00              2          0               0   \n",
            "4       2  125510.82              1          1               1   \n",
            "\n",
            "   EstimatedSalary  Exited  \n",
            "0        101348.88       1  \n",
            "1        112542.58       0  \n",
            "2        113931.57       1  \n",
            "3         93826.63       0  \n",
            "4         79084.10       0  \n",
            "(10000, 14)\n",
            "(10000, 14)\n"
          ]
        }
      ],
      "source": [
        "import pandas as pd\n",
        "import numpy as np\n",
        "import matplotlib.pyplot as plt\n",
        "import seaborn as sns\n",
        "\n",
        "sns.set(color_codes=True)\n",
        "#reading directly from the cloud \n",
        "url = 'https://drive.google.com/file/d/1caSSco2Hy5qQKMPDyFaa0JsWjKi137u6/view?usp=sharing'\n",
        "path = 'https://drive.google.com/uc?export=download&id='+url.split('/')[-2]\n",
        "data = pd.read_csv(path)\n",
        "print(data.head())\n",
        "#No duplicate data\n",
        "print(data.shape)\n",
        "\n",
        "data=data.drop_duplicates()\n",
        "\n",
        "print(data.shape)"
      ]
    },
    {
      "cell_type": "code",
      "source": [
        "data['CreditScore'].describe()"
      ],
      "metadata": {
        "id": "KYBzlF8ZctbK",
        "outputId": "6d5c447c-f299-43b5-a178-70ffbe110580",
        "colab": {
          "base_uri": "https://localhost:8080/"
        }
      },
      "execution_count": null,
      "outputs": [
        {
          "output_type": "execute_result",
          "data": {
            "text/plain": [
              "count    10000.000000\n",
              "mean       650.528800\n",
              "std         96.653299\n",
              "min        350.000000\n",
              "25%        584.000000\n",
              "50%        652.000000\n",
              "75%        718.000000\n",
              "max        850.000000\n",
              "Name: CreditScore, dtype: float64"
            ]
          },
          "metadata": {},
          "execution_count": 4
        }
      ]
    }
  ]
}